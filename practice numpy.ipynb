{
 "cells": [
  {
   "cell_type": "code",
   "execution_count": 1,
   "id": "c5ad69e1-a6ba-4e5d-87d7-b1b94f0590fe",
   "metadata": {},
   "outputs": [
    {
     "name": "stdout",
     "output_type": "stream",
     "text": [
      "Requirement already satisfied: numpy in c:\\users\\raman\\appdata\\local\\programs\\python\\python39\\lib\\site-packages (1.19.5)\n",
      "Note: you may need to restart the kernel to use updated packages.\n"
     ]
    }
   ],
   "source": [
    "pip install numpy"
   ]
  },
  {
   "cell_type": "code",
   "execution_count": 2,
   "id": "29419c04-02eb-4066-ba93-681581a7f0dd",
   "metadata": {},
   "outputs": [
    {
     "data": {
      "text/plain": [
       "'1.19.5'"
      ]
     },
     "execution_count": 2,
     "metadata": {},
     "output_type": "execute_result"
    }
   ],
   "source": [
    "import numpy as np\n",
    "np.__version__"
   ]
  },
  {
   "cell_type": "code",
   "execution_count": 3,
   "id": "a4f4a0f3-9741-43b2-a7a0-ff696e63480a",
   "metadata": {},
   "outputs": [
    {
     "name": "stdout",
     "output_type": "stream",
     "text": [
      "([[1, 2, 3, 4.0], [1, 3, 4, 5.0]], [[1, 2, 3, 4.0], [1, 3, 4, 5.0]])\n"
     ]
    }
   ],
   "source": [
    "x = [[1,2,3,4.0], [1,3,4,5.0]],[[1,2,3,4.0], [1,3,4,5.0]]\n",
    "print(x)"
   ]
  },
  {
   "cell_type": "code",
   "execution_count": 4,
   "id": "207ae54e-3e1b-4971-b3cd-d209d7a06b33",
   "metadata": {},
   "outputs": [],
   "source": [
    "y = np.array(x)"
   ]
  },
  {
   "cell_type": "code",
   "execution_count": 5,
   "id": "b9ff8902-a497-46b3-af5d-717310cef534",
   "metadata": {},
   "outputs": [
    {
     "data": {
      "text/plain": [
       "array([[[1., 2., 3., 4.],\n",
       "        [1., 3., 4., 5.]],\n",
       "\n",
       "       [[1., 2., 3., 4.],\n",
       "        [1., 3., 4., 5.]]])"
      ]
     },
     "execution_count": 5,
     "metadata": {},
     "output_type": "execute_result"
    }
   ],
   "source": [
    "y"
   ]
  },
  {
   "cell_type": "code",
   "execution_count": 6,
   "id": "cc831647-6d18-4a1b-b062-1aab1ff65964",
   "metadata": {},
   "outputs": [
    {
     "data": {
      "text/plain": [
       "array([[[1., 3., 4., 5.]],\n",
       "\n",
       "       [[1., 3., 4., 5.]]])"
      ]
     },
     "execution_count": 6,
     "metadata": {},
     "output_type": "execute_result"
    }
   ],
   "source": [
    "y[:, 1:3]  # start row: end row , start col : end col"
   ]
  },
  {
   "cell_type": "code",
   "execution_count": 7,
   "id": "d6117343-7387-48f1-865d-255dc91cda3a",
   "metadata": {},
   "outputs": [],
   "source": [
    "# scale is o dimen tensor\n",
    "# vector is 1 dimen tensor\n",
    "# marix is a 2 dimn tensor\n",
    "# n dimen is n dim tensor"
   ]
  },
  {
   "cell_type": "code",
   "execution_count": 8,
   "id": "667796d6-9248-4cdd-8f8e-bb0ffbb912f5",
   "metadata": {},
   "outputs": [
    {
     "data": {
      "text/plain": [
       "array([[[1., 2., 3., 4.],\n",
       "        [1., 3., 4., 5.]],\n",
       "\n",
       "       [[1., 2., 3., 4.],\n",
       "        [1., 3., 4., 5.]]])"
      ]
     },
     "execution_count": 8,
     "metadata": {},
     "output_type": "execute_result"
    }
   ],
   "source": [
    "y"
   ]
  },
  {
   "cell_type": "code",
   "execution_count": 9,
   "id": "4f3f461e-2b08-45f0-8353-c2304966c7de",
   "metadata": {},
   "outputs": [
    {
     "data": {
      "text/plain": [
       "array([[[2., 3.],\n",
       "        [3., 4.]],\n",
       "\n",
       "       [[2., 3.],\n",
       "        [3., 4.]]])"
      ]
     },
     "execution_count": 9,
     "metadata": {},
     "output_type": "execute_result"
    }
   ],
   "source": [
    "y[:, :2, 1:3]  #multi dimes slicing"
   ]
  },
  {
   "cell_type": "code",
   "execution_count": 10,
   "id": "009c0b9b-37d3-428b-915b-72cd231389da",
   "metadata": {},
   "outputs": [
    {
     "data": {
      "text/plain": [
       "array([[[[0.5488135 , 0.71518937, 0.60276338, 0.54488318],\n",
       "         [0.4236548 , 0.64589411, 0.43758721, 0.891773  ],\n",
       "         [0.96366276, 0.38344152, 0.79172504, 0.52889492]],\n",
       "\n",
       "        [[0.56804456, 0.92559664, 0.07103606, 0.0871293 ],\n",
       "         [0.0202184 , 0.83261985, 0.77815675, 0.87001215],\n",
       "         [0.97861834, 0.79915856, 0.46147936, 0.78052918]],\n",
       "\n",
       "        [[0.11827443, 0.63992102, 0.14335329, 0.94466892],\n",
       "         [0.52184832, 0.41466194, 0.26455561, 0.77423369],\n",
       "         [0.45615033, 0.56843395, 0.0187898 , 0.6176355 ]]],\n",
       "\n",
       "\n",
       "       [[[0.61209572, 0.616934  , 0.94374808, 0.6818203 ],\n",
       "         [0.3595079 , 0.43703195, 0.6976312 , 0.06022547],\n",
       "         [0.66676672, 0.67063787, 0.21038256, 0.1289263 ]],\n",
       "\n",
       "        [[0.31542835, 0.36371077, 0.57019677, 0.43860151],\n",
       "         [0.98837384, 0.10204481, 0.20887676, 0.16130952],\n",
       "         [0.65310833, 0.2532916 , 0.46631077, 0.24442559]],\n",
       "\n",
       "        [[0.15896958, 0.11037514, 0.65632959, 0.13818295],\n",
       "         [0.19658236, 0.36872517, 0.82099323, 0.09710128],\n",
       "         [0.83794491, 0.09609841, 0.97645947, 0.4686512 ]]]])"
      ]
     },
     "execution_count": 10,
     "metadata": {},
     "output_type": "execute_result"
    }
   ],
   "source": [
    "np.random.seed(0)\n",
    "k = np.random.rand(2,3,3,4)\n",
    "k"
   ]
  },
  {
   "cell_type": "code",
   "execution_count": 11,
   "id": "33d20769-c839-4402-b2cf-e45b3ffc95ab",
   "metadata": {},
   "outputs": [
    {
     "data": {
      "text/plain": [
       "(2, 3, 3, 4)"
      ]
     },
     "execution_count": 11,
     "metadata": {},
     "output_type": "execute_result"
    }
   ],
   "source": [
    "k.shape"
   ]
  },
  {
   "cell_type": "code",
   "execution_count": 12,
   "id": "acfaf828-b9bd-4462-87a3-07ab95e76f84",
   "metadata": {},
   "outputs": [
    {
     "data": {
      "text/plain": [
       "array([[[[0.5488135 , 0.71518937],\n",
       "         [0.4236548 , 0.64589411],\n",
       "         [0.96366276, 0.38344152]],\n",
       "\n",
       "        [[0.56804456, 0.92559664],\n",
       "         [0.0202184 , 0.83261985],\n",
       "         [0.97861834, 0.79915856]],\n",
       "\n",
       "        [[0.11827443, 0.63992102],\n",
       "         [0.52184832, 0.41466194],\n",
       "         [0.45615033, 0.56843395]]],\n",
       "\n",
       "\n",
       "       [[[0.61209572, 0.616934  ],\n",
       "         [0.3595079 , 0.43703195],\n",
       "         [0.66676672, 0.67063787]],\n",
       "\n",
       "        [[0.31542835, 0.36371077],\n",
       "         [0.98837384, 0.10204481],\n",
       "         [0.65310833, 0.2532916 ]],\n",
       "\n",
       "        [[0.15896958, 0.11037514],\n",
       "         [0.19658236, 0.36872517],\n",
       "         [0.83794491, 0.09609841]]]])"
      ]
     },
     "execution_count": 12,
     "metadata": {},
     "output_type": "execute_result"
    }
   ],
   "source": [
    "k[:,:,:3,:2]"
   ]
  },
  {
   "cell_type": "code",
   "execution_count": 13,
   "id": "615f8a98-e56d-4c8b-9761-592288392544",
   "metadata": {},
   "outputs": [],
   "source": [
    "# random.randn is used to get values standard normal disturbution mean is 0 and std is 1 (values will get -3 to +3) i.e 99.7% lies in it"
   ]
  },
  {
   "cell_type": "code",
   "execution_count": 14,
   "id": "464311f3-a9d7-4415-b82e-f9799d0e8bbd",
   "metadata": {},
   "outputs": [],
   "source": [
    "## random.rand is used to get values normal disturbution mran is 0 and std is 1 (values will get 0 to 1)"
   ]
  },
  {
   "cell_type": "code",
   "execution_count": 15,
   "id": "5fd1aebe-79e7-44b9-b1d7-31bf55fa25ee",
   "metadata": {},
   "outputs": [
    {
     "data": {
      "text/plain": [
       "array([[8, 9, 4, 7],\n",
       "       [7, 7, 5, 7],\n",
       "       [9, 6, 8, 4]])"
      ]
     },
     "execution_count": 15,
     "metadata": {},
     "output_type": "execute_result"
    }
   ],
   "source": [
    "np.random.seed(0)\n",
    "np.random.randint(4, 10, (3,4))"
   ]
  },
  {
   "cell_type": "code",
   "execution_count": 16,
   "id": "afca6270-6007-44aa-855a-e4211c0da731",
   "metadata": {},
   "outputs": [
    {
     "data": {
      "text/plain": [
       "array([[0., 0., 0., 0., 0.],\n",
       "       [0., 0., 0., 0., 0.],\n",
       "       [0., 0., 0., 0., 0.]])"
      ]
     },
     "execution_count": 16,
     "metadata": {},
     "output_type": "execute_result"
    }
   ],
   "source": [
    "np.zeros((3,5))"
   ]
  },
  {
   "cell_type": "code",
   "execution_count": 17,
   "id": "556d4a4e-9c83-4966-b535-084613966881",
   "metadata": {},
   "outputs": [
    {
     "data": {
      "text/plain": [
       "array([[1., 1., 1., 1., 1.],\n",
       "       [1., 1., 1., 1., 1.],\n",
       "       [1., 1., 1., 1., 1.]])"
      ]
     },
     "execution_count": 17,
     "metadata": {},
     "output_type": "execute_result"
    }
   ],
   "source": [
    "np.ones((3,5))"
   ]
  },
  {
   "cell_type": "code",
   "execution_count": 18,
   "id": "92dfed1c-796e-4f63-a05d-971218d90974",
   "metadata": {},
   "outputs": [
    {
     "data": {
      "text/plain": [
       "array([[[[1., 1., 1., 1.],\n",
       "         [1., 1., 1., 1.],\n",
       "         [1., 1., 1., 1.]],\n",
       "\n",
       "        [[1., 1., 1., 1.],\n",
       "         [1., 1., 1., 1.],\n",
       "         [1., 1., 1., 1.]],\n",
       "\n",
       "        [[1., 1., 1., 1.],\n",
       "         [1., 1., 1., 1.],\n",
       "         [1., 1., 1., 1.]]],\n",
       "\n",
       "\n",
       "       [[[1., 1., 1., 1.],\n",
       "         [1., 1., 1., 1.],\n",
       "         [1., 1., 1., 1.]],\n",
       "\n",
       "        [[1., 1., 1., 1.],\n",
       "         [1., 1., 1., 1.],\n",
       "         [1., 1., 1., 1.]],\n",
       "\n",
       "        [[1., 1., 1., 1.],\n",
       "         [1., 1., 1., 1.],\n",
       "         [1., 1., 1., 1.]]]])"
      ]
     },
     "execution_count": 18,
     "metadata": {},
     "output_type": "execute_result"
    }
   ],
   "source": [
    "np.ones_like(k)    "
   ]
  },
  {
   "cell_type": "code",
   "execution_count": 19,
   "id": "1f5ae404-2caa-4744-a6d4-b4bc05e527f7",
   "metadata": {},
   "outputs": [
    {
     "data": {
      "text/plain": [
       "array([[[[0., 0., 0., 0.],\n",
       "         [0., 0., 0., 0.],\n",
       "         [0., 0., 0., 0.]],\n",
       "\n",
       "        [[0., 0., 0., 0.],\n",
       "         [0., 0., 0., 0.],\n",
       "         [0., 0., 0., 0.]],\n",
       "\n",
       "        [[0., 0., 0., 0.],\n",
       "         [0., 0., 0., 0.],\n",
       "         [0., 0., 0., 0.]]],\n",
       "\n",
       "\n",
       "       [[[0., 0., 0., 0.],\n",
       "         [0., 0., 0., 0.],\n",
       "         [0., 0., 0., 0.]],\n",
       "\n",
       "        [[0., 0., 0., 0.],\n",
       "         [0., 0., 0., 0.],\n",
       "         [0., 0., 0., 0.]],\n",
       "\n",
       "        [[0., 0., 0., 0.],\n",
       "         [0., 0., 0., 0.],\n",
       "         [0., 0., 0., 0.]]]])"
      ]
     },
     "execution_count": 19,
     "metadata": {},
     "output_type": "execute_result"
    }
   ],
   "source": [
    "np.zeros_like(k)    "
   ]
  },
  {
   "cell_type": "code",
   "execution_count": 20,
   "id": "4c8a866b-66a8-4271-b8d9-95cd53674121",
   "metadata": {},
   "outputs": [
    {
     "data": {
      "text/plain": [
       "array([[[[2., 2., 2., 2.],\n",
       "         [2., 2., 2., 2.],\n",
       "         [2., 2., 2., 2.]],\n",
       "\n",
       "        [[2., 2., 2., 2.],\n",
       "         [2., 2., 2., 2.],\n",
       "         [2., 2., 2., 2.]],\n",
       "\n",
       "        [[2., 2., 2., 2.],\n",
       "         [2., 2., 2., 2.],\n",
       "         [2., 2., 2., 2.]]],\n",
       "\n",
       "\n",
       "       [[[2., 2., 2., 2.],\n",
       "         [2., 2., 2., 2.],\n",
       "         [2., 2., 2., 2.]],\n",
       "\n",
       "        [[2., 2., 2., 2.],\n",
       "         [2., 2., 2., 2.],\n",
       "         [2., 2., 2., 2.]],\n",
       "\n",
       "        [[2., 2., 2., 2.],\n",
       "         [2., 2., 2., 2.],\n",
       "         [2., 2., 2., 2.]]]])"
      ]
     },
     "execution_count": 20,
     "metadata": {},
     "output_type": "execute_result"
    }
   ],
   "source": [
    "np.ones_like(k)*2"
   ]
  },
  {
   "cell_type": "code",
   "execution_count": 21,
   "id": "ee8abf11-8f3c-4cbf-9d47-8d6451fb60f3",
   "metadata": {},
   "outputs": [
    {
     "data": {
      "text/plain": [
       "array([[[[4., 4., 4., 4.],\n",
       "         [4., 4., 4., 4.],\n",
       "         [4., 4., 4., 4.]],\n",
       "\n",
       "        [[4., 4., 4., 4.],\n",
       "         [4., 4., 4., 4.],\n",
       "         [4., 4., 4., 4.]],\n",
       "\n",
       "        [[4., 4., 4., 4.],\n",
       "         [4., 4., 4., 4.],\n",
       "         [4., 4., 4., 4.]]],\n",
       "\n",
       "\n",
       "       [[[4., 4., 4., 4.],\n",
       "         [4., 4., 4., 4.],\n",
       "         [4., 4., 4., 4.]],\n",
       "\n",
       "        [[4., 4., 4., 4.],\n",
       "         [4., 4., 4., 4.],\n",
       "         [4., 4., 4., 4.]],\n",
       "\n",
       "        [[4., 4., 4., 4.],\n",
       "         [4., 4., 4., 4.],\n",
       "         [4., 4., 4., 4.]]]])"
      ]
     },
     "execution_count": 21,
     "metadata": {},
     "output_type": "execute_result"
    }
   ],
   "source": [
    "np.ones_like(k)*4    "
   ]
  },
  {
   "cell_type": "code",
   "execution_count": 22,
   "id": "0ac2726f-6160-4bd2-8a25-4b5480d98177",
   "metadata": {},
   "outputs": [],
   "source": [
    "# BROAD CASTING"
   ]
  },
  {
   "cell_type": "code",
   "execution_count": 23,
   "id": "f1805141-6b92-459d-9dee-61bd547784fd",
   "metadata": {},
   "outputs": [
    {
     "data": {
      "text/plain": [
       "array([[[0.34309477, 0.43058655, 0.61133016, 0.67309279, 1.04958158],\n",
       "        [0.30370351, 0.39843278, 0.53675484, 0.69267748, 0.91648496],\n",
       "        [0.27362969, 0.39993955, 0.47320472, 0.85366007, 0.79588624],\n",
       "        [0.03129788, 0.04403586, 0.05455932, 0.08806139, 0.0922793 ],\n",
       "        [0.09134199, 0.18126858, 0.14583797, 0.55265877, 0.23087895]],\n",
       "\n",
       "       [[0.48308372, 0.36123047, 0.44449863, 0.80016324, 0.59520659],\n",
       "        [0.56677036, 0.39629985, 0.45024043, 0.76411891, 0.71989549],\n",
       "        [0.32304862, 0.26623564, 0.36116194, 0.69174502, 0.37867294],\n",
       "        [0.14357881, 0.15470648, 0.25475702, 0.53842538, 0.13976415],\n",
       "        [0.19738432, 0.22074446, 0.37111202, 0.79138942, 0.18581556]],\n",
       "\n",
       "       [[0.68808656, 0.35669326, 0.52581342, 0.36183413, 0.55956207],\n",
       "        [0.68997481, 0.59778614, 0.28866834, 0.34294298, 0.35146785],\n",
       "        [0.72604358, 0.46405784, 0.46768798, 0.37453248, 0.5138737 ],\n",
       "        [0.38931888, 0.4584011 , 0.04255125, 0.18347748, 0.09259081],\n",
       "        [0.88605226, 0.51489826, 0.62186294, 0.46133263, 0.67202463]],\n",
       "\n",
       "       [[0.75162329, 0.49836943, 0.48104396, 0.74772105, 0.12458962],\n",
       "        [0.40909718, 0.29030649, 0.23030115, 0.37760694, 0.06411654],\n",
       "        [0.2483011 , 0.116952  , 0.23781819, 0.32051565, 0.05040891],\n",
       "        [0.66185445, 0.45914808, 0.39000084, 0.62712674, 0.10577148],\n",
       "        [0.1515806 , 0.09802807, 0.1011138 , 0.15461414, 0.02560692]]])"
      ]
     },
     "execution_count": 23,
     "metadata": {},
     "output_type": "execute_result"
    }
   ],
   "source": [
    "x = np.random.rand(4,5,2)\n",
    "y = np.random.rand(4,2,5)\n",
    "z = np.matmul(x,y)\n",
    "z"
   ]
  },
  {
   "cell_type": "code",
   "execution_count": 24,
   "id": "6da4e6aa-467d-46b3-be2f-3620bc10301f",
   "metadata": {},
   "outputs": [
    {
     "data": {
      "text/plain": [
       "array([[[0.40489011, 1.30499167, 0.62599157, 1.30629196, 0.94303731],\n",
       "        [0.26957939, 0.84665337, 0.40707231, 0.85769694, 0.61077993],\n",
       "        [0.24246386, 0.7085158 , 0.34295802, 0.74271304, 0.50857144],\n",
       "        [0.11904906, 0.4248121 , 0.20203724, 0.40636632, 0.30891773],\n",
       "        [0.13682099, 0.5751631 , 0.27021758, 0.51414646, 0.42194161]],\n",
       "\n",
       "       [[0.73392958, 0.57605736, 0.60403961, 0.41565797, 0.79395203],\n",
       "        [0.7715373 , 0.58385361, 0.65532035, 0.34498827, 0.7294769 ],\n",
       "        [1.26788656, 0.91697356, 1.11666722, 0.38703816, 0.99307881],\n",
       "        [0.59037412, 0.4164766 , 0.52978718, 0.13576432, 0.41158335],\n",
       "        [0.89054893, 0.6525596 , 0.77639062, 0.3077884 , 0.73861837]]])"
      ]
     },
     "execution_count": 24,
     "metadata": {},
     "output_type": "execute_result"
    }
   ],
   "source": [
    "x = np.random.rand(2,5,2)\n",
    "y = np.random.rand(2,2,5)\n",
    "z = np.matmul(x,y)\n",
    "z"
   ]
  },
  {
   "cell_type": "code",
   "execution_count": 25,
   "id": "f15a53dc-e16d-4d70-b14b-691365d77553",
   "metadata": {},
   "outputs": [
    {
     "data": {
      "text/plain": [
       "array([[[0.51865877, 0.83797241, 0.13457922, 0.81910205],\n",
       "        [0.51108403, 0.88123554, 0.14545149, 0.90011468],\n",
       "        [0.14522994, 0.3189284 , 0.05717968, 0.37055443],\n",
       "        [0.50310513, 0.93302512, 0.15834214, 0.99586635],\n",
       "        [0.51634733, 0.97574707, 0.16671125, 1.05250638]],\n",
       "\n",
       "       [[0.82733896, 0.56677913, 0.57703366, 0.41887733],\n",
       "        [0.98014729, 0.67693033, 0.63045891, 0.38046054],\n",
       "        [0.97393503, 0.65257636, 0.82149517, 0.8028941 ],\n",
       "        [1.14176784, 0.77804911, 0.83651542, 0.66559864],\n",
       "        [0.7221887 , 0.47406381, 0.70472828, 0.80355588]]])"
      ]
     },
     "execution_count": 25,
     "metadata": {},
     "output_type": "execute_result"
    }
   ],
   "source": [
    "x = np.random.rand(2,5,2)\n",
    "y = np.random.rand(2,2,4)\n",
    "z = np.matmul(x,y)\n",
    "z"
   ]
  },
  {
   "cell_type": "code",
   "execution_count": 26,
   "id": "8c828fdb-6bb0-4194-90f2-65c5bcc2c6b3",
   "metadata": {},
   "outputs": [
    {
     "data": {
      "text/plain": [
       "array([[[1.9097355 , 1.4697693 ],\n",
       "        [0.54734689, 0.94988804],\n",
       "        [1.46011259, 0.48357467],\n",
       "        [0.91925767, 0.26418174],\n",
       "        [0.38618953, 0.96289418]],\n",
       "\n",
       "       [[1.5332485 , 0.7143835 ],\n",
       "        [0.57276631, 1.18243778],\n",
       "        [0.76244356, 0.46625556],\n",
       "        [0.47649004, 1.31782189],\n",
       "        [0.95498043, 0.4174965 ]]])"
      ]
     },
     "execution_count": 26,
     "metadata": {},
     "output_type": "execute_result"
    }
   ],
   "source": [
    "x = np.random.rand(2,5,2)\n",
    "y = np.random.rand(2,5,2)\n",
    "z = x+y\n",
    "z"
   ]
  },
  {
   "cell_type": "code",
   "execution_count": 27,
   "id": "4bfbf598-3bd8-40d6-93be-24e790015bdf",
   "metadata": {},
   "outputs": [
    {
     "data": {
      "text/plain": [
       "array([[[4.37646219, 5.97418071],\n",
       "        [6.30362566, 4.73463133],\n",
       "        [6.69099779, 6.92106844],\n",
       "        [5.74014281, 4.51993498],\n",
       "        [5.81968173, 4.12742168]],\n",
       "\n",
       "       [[4.41965108, 5.74658151],\n",
       "        [4.97049175, 5.25195984],\n",
       "        [5.06470816, 6.35185645],\n",
       "        [6.66667886, 5.09914713],\n",
       "        [5.25110839, 5.0064115 ]]])"
      ]
     },
     "execution_count": 27,
     "metadata": {},
     "output_type": "execute_result"
    }
   ],
   "source": [
    "x = np.random.rand(2,5,2)\n",
    "y = np.random.rand(2,5,2)\n",
    "z = x**2 + 2 * y + x * y + 4 \n",
    "z"
   ]
  },
  {
   "cell_type": "code",
   "execution_count": 28,
   "id": "383b73b8-8e66-4d0e-94af-bd5f561724dc",
   "metadata": {},
   "outputs": [
    {
     "data": {
      "text/plain": [
       "array([[[5.62030492, 4.71331016, 4.65958786, 4.15023799, 5.57727032,\n",
       "         4.26663109],\n",
       "        [5.94165025, 5.31649885, 4.80562717, 4.80678582, 6.76814785,\n",
       "         4.51816285],\n",
       "        [5.37821418, 5.78211858, 7.47421942, 5.75184289, 4.66375705,\n",
       "         4.2862114 ],\n",
       "        [4.11192835, 5.74756679, 5.14862176, 5.88688632, 5.63843545,\n",
       "         6.14304961],\n",
       "        [4.58926049, 5.18019109, 5.49487286, 7.03651675, 4.24727132,\n",
       "         6.98882339]],\n",
       "\n",
       "       [[5.79150143, 7.19402898, 5.64925173, 5.68510348, 5.94311485,\n",
       "         5.54854816],\n",
       "        [4.93623388, 5.28210168, 5.58561761, 4.08999034, 5.99787882,\n",
       "         4.187259  ],\n",
       "        [6.51106685, 4.98922719, 5.68974894, 6.94132303, 5.66494236,\n",
       "         4.09430768],\n",
       "        [5.89052392, 5.15290157, 5.60795982, 5.56595109, 4.59192699,\n",
       "         5.11219783],\n",
       "        [6.1139655 , 7.75496245, 5.3657492 , 7.10684355, 5.37976391,\n",
       "         4.95745643]]])"
      ]
     },
     "execution_count": 28,
     "metadata": {},
     "output_type": "execute_result"
    }
   ],
   "source": [
    "x = np.random.rand(2,5,6)\n",
    "y = np.random.rand(2,5,6)\n",
    "z = x**2 + 2 * y + x * y + 4\n",
    "z"
   ]
  },
  {
   "cell_type": "code",
   "execution_count": 29,
   "id": "c80cbc65-9ab7-4a76-82ad-ced5e864bcd2",
   "metadata": {},
   "outputs": [
    {
     "name": "stdout",
     "output_type": "stream",
     "text": [
      "[[6 9]\n",
      " [7 2]]\n",
      "[[5 5]\n",
      " [5 9]]\n"
     ]
    }
   ],
   "source": [
    "np.random.seed(0)\n",
    "x = np.random.randint(2,10,(2,2))\n",
    "y = np.random.randint(2,10,(2,2))\n",
    "print(x)\n",
    "print(y)"
   ]
  },
  {
   "cell_type": "code",
   "execution_count": 30,
   "id": "e9b832a8-5fc5-43b6-b191-5679e89cf363",
   "metadata": {},
   "outputs": [
    {
     "data": {
      "text/plain": [
       "array([[30, 45],\n",
       "       [35, 18]])"
      ]
     },
     "execution_count": 30,
     "metadata": {},
     "output_type": "execute_result"
    }
   ],
   "source": [
    "x * y"
   ]
  },
  {
   "cell_type": "code",
   "execution_count": 31,
   "id": "3b6a2424-5424-4442-bfbb-75789eae6c50",
   "metadata": {},
   "outputs": [],
   "source": [
    "z = np.matmul(x,y)"
   ]
  },
  {
   "cell_type": "code",
   "execution_count": 32,
   "id": "dd3c4c6f-b91b-4204-840c-b8c1ea1c95e1",
   "metadata": {},
   "outputs": [
    {
     "data": {
      "text/plain": [
       "array([[ 75, 111],\n",
       "       [ 45,  53]])"
      ]
     },
     "execution_count": 32,
     "metadata": {},
     "output_type": "execute_result"
    }
   ],
   "source": [
    "z"
   ]
  },
  {
   "cell_type": "code",
   "execution_count": 33,
   "id": "8cc62fe8-d384-448c-9c06-5bf5dcd15737",
   "metadata": {},
   "outputs": [
    {
     "name": "stdout",
     "output_type": "stream",
     "text": [
      "[[6 9 7]\n",
      " [2 5 5]]\n",
      "[[5 9]\n",
      " [3 5]]\n"
     ]
    }
   ],
   "source": [
    "np.random.seed(0)\n",
    "x = np.random.randint(2,10,(2,3))\n",
    "y = np.random.randint(2,10,(2,2))\n",
    "print(x)\n",
    "print(y)"
   ]
  },
  {
   "cell_type": "code",
   "execution_count": 35,
   "id": "e6a8bf7a-f420-4840-95ab-50c46b4b28f1",
   "metadata": {},
   "outputs": [
    {
     "data": {
      "text/plain": [
       "array([[0, 0, 0],\n",
       "       [0, 0, 0]])"
      ]
     },
     "execution_count": 35,
     "metadata": {},
     "output_type": "execute_result"
    }
   ],
   "source": [
    "k = np.zeros_like(x)\n",
    "k"
   ]
  },
  {
   "cell_type": "code",
   "execution_count": 37,
   "id": "b359936e-8a93-4c8c-a686-a1c20444603d",
   "metadata": {},
   "outputs": [
    {
     "data": {
      "text/plain": [
       "array([[5, 9, 0],\n",
       "       [3, 5, 0]])"
      ]
     },
     "execution_count": 37,
     "metadata": {},
     "output_type": "execute_result"
    }
   ],
   "source": [
    "k[:, :2] = y \n",
    "k"
   ]
  },
  {
   "cell_type": "code",
   "execution_count": 42,
   "id": "53c422f2-f670-4d6a-85de-0deb990fdfcd",
   "metadata": {},
   "outputs": [
    {
     "name": "stdout",
     "output_type": "stream",
     "text": [
      "[[30 81  0]\n",
      " [ 6 25  0]]\n"
     ]
    }
   ],
   "source": [
    "print(x*k)"
   ]
  },
  {
   "cell_type": "code",
   "execution_count": 44,
   "id": "e2f065f5-c699-4b11-b719-fc4e6b57f3f2",
   "metadata": {},
   "outputs": [
    {
     "name": "stdout",
     "output_type": "stream",
     "text": [
      "[[11 18  7]\n",
      " [ 5 10  5]]\n"
     ]
    }
   ],
   "source": [
    "print(x + k)"
   ]
  },
  {
   "cell_type": "code",
   "execution_count": 49,
   "id": "ca11ad47-4a88-4f7d-928e-b8f43bb90acb",
   "metadata": {},
   "outputs": [
    {
     "name": "stdout",
     "output_type": "stream",
     "text": [
      "[1 2 3]\n",
      "[2]\n"
     ]
    }
   ],
   "source": [
    "x = np.array([1,2,3])\n",
    "y = np.array([2])\n",
    "print(x)\n",
    "print(y)"
   ]
  },
  {
   "cell_type": "code",
   "execution_count": 50,
   "id": "f7fe1066-fb3b-495d-a82c-b9b4bc071f56",
   "metadata": {},
   "outputs": [
    {
     "name": "stdout",
     "output_type": "stream",
     "text": [
      "[2 4 6]\n"
     ]
    }
   ],
   "source": [
    "print(x * y)"
   ]
  },
  {
   "cell_type": "code",
   "execution_count": null,
   "id": "5c221a8d-ebf2-4961-8395-7568948af2ab",
   "metadata": {},
   "outputs": [],
   "source": []
  }
 ],
 "metadata": {
  "kernelspec": {
   "display_name": "Python 3 (ipykernel)",
   "language": "python",
   "name": "python3"
  },
  "language_info": {
   "codemirror_mode": {
    "name": "ipython",
    "version": 3
   },
   "file_extension": ".py",
   "mimetype": "text/x-python",
   "name": "python",
   "nbconvert_exporter": "python",
   "pygments_lexer": "ipython3",
   "version": "3.9.6"
  }
 },
 "nbformat": 4,
 "nbformat_minor": 5
}
